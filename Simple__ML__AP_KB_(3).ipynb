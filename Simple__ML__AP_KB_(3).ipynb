{
  "nbformat": 4,
  "nbformat_minor": 0,
  "metadata": {
    "colab": {
      "name": "Simple__ML__AP_KB (3).ipynb",
      "provenance": [],
      "collapsed_sections": [],
      "include_colab_link": true
    },
    "kernelspec": {
      "name": "python3",
      "display_name": "Python 3"
    },
    "language_info": {
      "name": "python"
    }
  },
  "cells": [
    {
      "cell_type": "markdown",
      "metadata": {
        "id": "view-in-github",
        "colab_type": "text"
      },
      "source": [
        "<a href=\"https://colab.research.google.com/github/aruna20200/-usng-scipy-pi-value/blob/master/Simple__ML__AP_KB_(3).ipynb\" target=\"_parent\"><img src=\"https://colab.research.google.com/assets/colab-badge.svg\" alt=\"Open In Colab\"/></a>"
      ]
    },
    {
      "cell_type": "code",
      "metadata": {
        "id": "sCD5SLuFiTp6"
      },
      "source": [
        "import pandas as pd\n",
        "import re\n",
        "import nltk\n",
        "from nltk.corpus import stopwords\n",
        "from nltk.stem.porter import PorterStemmer\n",
        "from sklearn.feature_extraction.text import CountVectorizer\n",
        "from sklearn.svm import SVC\n",
        "from sklearn.metrics import confusion_matrix"
      ],
      "execution_count": null,
      "outputs": []
    },
    {
      "cell_type": "code",
      "metadata": {
        "id": "4KRyOfNUiWZd"
      },
      "source": [
        "dataset = pd.read_csv(\"/content/AP_KB.csv\")"
      ],
      "execution_count": null,
      "outputs": []
    },
    {
      "cell_type": "code",
      "metadata": {
        "colab": {
          "base_uri": "https://localhost:8080/"
        },
        "id": "k2VogGkiiWcE",
        "outputId": "e5f60c24-69f6-453c-8965-3d6aac6904ba"
      },
      "source": [
        "dataset.shape"
      ],
      "execution_count": null,
      "outputs": [
        {
          "output_type": "execute_result",
          "data": {
            "text/plain": [
              "(326, 8)"
            ]
          },
          "metadata": {
            "tags": []
          },
          "execution_count": 23
        }
      ]
    },
    {
      "cell_type": "code",
      "metadata": {
        "colab": {
          "base_uri": "https://localhost:8080/"
        },
        "id": "HKL1LOMYo5-d",
        "outputId": "a511f3bb-62ab-4428-ddd7-2db1ab846217"
      },
      "source": [
        "nltk.download('stopwords') #downloading the stopwords from nltk\n",
        "corpus = [] # List for storing cleaned data\n",
        "ps = PorterStemmer() #Initializing object for stemming\n",
        "for i in range(len(dataset)): # for each obervation in the dataset\n",
        "   #Removing special characters\n",
        "   Question = re.sub('[^a-zA-Z]', ' ', dataset['Question'][i]).lower().split()\n",
        "   #Stemming and removing stop words\n",
        "   Question = [ps.stem(word) for word in Question if not word in set(stopwords.words('english'))]\n",
        "   #Joining all the cleaned words to form a sentence\n",
        "   Question = ' '.join(Question)\n",
        "   #Adding the cleaned sentence to a list\n",
        "   corpus.append(Question)"
      ],
      "execution_count": null,
      "outputs": [
        {
          "output_type": "stream",
          "text": [
            "[nltk_data] Downloading package stopwords to /root/nltk_data...\n",
            "[nltk_data]   Package stopwords is already up-to-date!\n"
          ],
          "name": "stdout"
        }
      ]
    },
    {
      "cell_type": "code",
      "metadata": {
        "colab": {
          "base_uri": "https://localhost:8080/",
          "height": 279
        },
        "id": "8n754DAJprgQ",
        "outputId": "16151367-b816-44bb-e30a-6d91a8107469"
      },
      "source": [
        "dataset.head()"
      ],
      "execution_count": null,
      "outputs": [
        {
          "output_type": "execute_result",
          "data": {
            "text/html": [
              "<div>\n",
              "<style scoped>\n",
              "    .dataframe tbody tr th:only-of-type {\n",
              "        vertical-align: middle;\n",
              "    }\n",
              "\n",
              "    .dataframe tbody tr th {\n",
              "        vertical-align: top;\n",
              "    }\n",
              "\n",
              "    .dataframe thead th {\n",
              "        text-align: right;\n",
              "    }\n",
              "</style>\n",
              "<table border=\"1\" class=\"dataframe\">\n",
              "  <thead>\n",
              "    <tr style=\"text-align: right;\">\n",
              "      <th></th>\n",
              "      <th>Question</th>\n",
              "      <th>Answer</th>\n",
              "      <th>Source</th>\n",
              "      <th>Metadata</th>\n",
              "      <th>SuggestedQuestions</th>\n",
              "      <th>IsContextOnly</th>\n",
              "      <th>Prompts</th>\n",
              "      <th>QnaId</th>\n",
              "    </tr>\n",
              "  </thead>\n",
              "  <tbody>\n",
              "    <tr>\n",
              "      <th>0</th>\n",
              "      <td>Where do I email invoices?</td>\n",
              "      <td>Please email invoices to invoiceprocessing@acc...</td>\n",
              "      <td>Editorial</td>\n",
              "      <td>NaN</td>\n",
              "      <td>[]</td>\n",
              "      <td>False</td>\n",
              "      <td>[]</td>\n",
              "      <td>1</td>\n",
              "    </tr>\n",
              "    <tr>\n",
              "      <th>1</th>\n",
              "      <td>How can i send my invoices through email?</td>\n",
              "      <td>Please email invoices to invoiceprocessing@acc...</td>\n",
              "      <td>Editorial</td>\n",
              "      <td>NaN</td>\n",
              "      <td>[]</td>\n",
              "      <td>False</td>\n",
              "      <td>[]</td>\n",
              "      <td>1</td>\n",
              "    </tr>\n",
              "    <tr>\n",
              "      <th>2</th>\n",
              "      <td>How do i submit the invoices via email</td>\n",
              "      <td>Please email invoices to invoiceprocessing@acc...</td>\n",
              "      <td>Editorial</td>\n",
              "      <td>NaN</td>\n",
              "      <td>[]</td>\n",
              "      <td>False</td>\n",
              "      <td>[]</td>\n",
              "      <td>1</td>\n",
              "    </tr>\n",
              "    <tr>\n",
              "      <th>3</th>\n",
              "      <td>How do i submit the invoices by email</td>\n",
              "      <td>Please email invoices to invoiceprocessing@acc...</td>\n",
              "      <td>Editorial</td>\n",
              "      <td>NaN</td>\n",
              "      <td>[]</td>\n",
              "      <td>False</td>\n",
              "      <td>[]</td>\n",
              "      <td>1</td>\n",
              "    </tr>\n",
              "    <tr>\n",
              "      <th>4</th>\n",
              "      <td>How do i submit the invoices through email</td>\n",
              "      <td>Please email invoices to invoiceprocessing@acc...</td>\n",
              "      <td>Editorial</td>\n",
              "      <td>NaN</td>\n",
              "      <td>[]</td>\n",
              "      <td>False</td>\n",
              "      <td>[]</td>\n",
              "      <td>1</td>\n",
              "    </tr>\n",
              "  </tbody>\n",
              "</table>\n",
              "</div>"
            ],
            "text/plain": [
              "                                     Question  ... QnaId\n",
              "0                  Where do I email invoices?  ...     1\n",
              "1   How can i send my invoices through email?  ...     1\n",
              "2      How do i submit the invoices via email  ...     1\n",
              "3       How do i submit the invoices by email  ...     1\n",
              "4  How do i submit the invoices through email  ...     1\n",
              "\n",
              "[5 rows x 8 columns]"
            ]
          },
          "metadata": {
            "tags": []
          },
          "execution_count": 29
        }
      ]
    },
    {
      "cell_type": "code",
      "metadata": {
        "id": "fM0xLfU4prj8"
      },
      "source": [
        "cv = CountVectorizer(max_features = 120)\n",
        "X = cv.fit_transform(corpus).toarray()\n",
        "y = dataset.iloc[:, 1].values"
      ],
      "execution_count": null,
      "outputs": []
    },
    {
      "cell_type": "code",
      "metadata": {
        "id": "-rszz62eqjlr"
      },
      "source": [
        "from sklearn.model_selection import train_test_split\n",
        "X_train, X_val, y_train, y_val = train_test_split(X, y, test_size = 0.20, random_state = 0)"
      ],
      "execution_count": null,
      "outputs": []
    },
    {
      "cell_type": "code",
      "metadata": {
        "colab": {
          "base_uri": "https://localhost:8080/"
        },
        "id": "AW37FrP2qjo6",
        "outputId": "5a78a6d3-c2a2-47ed-a4e8-13a1423fdfd2"
      },
      "source": [
        "classifier = SVC()\n",
        "classifier.fit(X_train, y_train)"
      ],
      "execution_count": null,
      "outputs": [
        {
          "output_type": "execute_result",
          "data": {
            "text/plain": [
              "SVC(C=1.0, break_ties=False, cache_size=200, class_weight=None, coef0=0.0,\n",
              "    decision_function_shape='ovr', degree=3, gamma='scale', kernel='rbf',\n",
              "    max_iter=-1, probability=False, random_state=None, shrinking=True,\n",
              "    tol=0.001, verbose=False)"
            ]
          },
          "metadata": {
            "tags": []
          },
          "execution_count": 33
        }
      ]
    },
    {
      "cell_type": "code",
      "metadata": {
        "id": "BZQdcTtdqwQJ"
      },
      "source": [
        "y_pred = classifier.predict(X_val)"
      ],
      "execution_count": null,
      "outputs": []
    },
    {
      "cell_type": "code",
      "metadata": {
        "colab": {
          "base_uri": "https://localhost:8080/"
        },
        "id": "1OdBsNI8qwV-",
        "outputId": "32480dcd-4140-493e-b6e0-bd571ff2f0ad"
      },
      "source": [
        "def accuracy(confusion_matrix):\n",
        "   diagonal_sum = confusion_matrix.trace()\n",
        "   sum_of_all_elements = confusion_matrix.sum()\n",
        "   return diagonal_sum / sum_of_all_elements\n",
        "\n",
        "#Creating the confusion matrix with y_val and y_pred\n",
        "cm = confusion_matrix(y_val, y_pred)\n",
        "\n",
        "print(\"Accuracy : \", accuracy(cm))"
      ],
      "execution_count": null,
      "outputs": [
        {
          "output_type": "stream",
          "text": [
            "Accuracy :  0.7121212121212122\n"
          ],
          "name": "stdout"
        }
      ]
    },
    {
      "cell_type": "code",
      "metadata": {
        "id": "uKSaTXtFqwZR"
      },
      "source": [
        ""
      ],
      "execution_count": null,
      "outputs": []
    }
  ]
}